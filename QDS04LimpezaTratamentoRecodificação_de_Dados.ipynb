{
  "nbformat": 4,
  "nbformat_minor": 0,
  "metadata": {
    "colab": {
      "provenance": [],
      "collapsed_sections": [
        "H5QuO8kThm1U"
      ]
    },
    "kernelspec": {
      "name": "python3",
      "display_name": "Python 3"
    },
    "language_info": {
      "name": "python"
    }
  },
  "cells": [
    {
      "cell_type": "markdown",
      "source": [
        "Centro de Inovação em Inteligência Artificial para a Saúde da UFMG\n",
        "\n",
        "**Curso de Qualidade de Dados em Saúde para IA**\n",
        "\n",
        "**Prof. Juliano Gaspar** - Faculdade de Medicina da UFMG\n",
        "\n",
        "Mais informações: https://ciia-saude.medicina.ufmg.br/"
      ],
      "metadata": {
        "id": "PN7h6ENUBLv0"
      }
    },
    {
      "cell_type": "markdown",
      "source": [
        "# **Limpeza, tratamento e recodificação de Dados**\n",
        "\n",
        "* Análise da qualidade das variáveis numéricas\n",
        "* Recodificação de variáveis\n",
        "* Salvando a base de dados corrigida"
      ],
      "metadata": {
        "id": "H5QuO8kThm1U"
      }
    },
    {
      "cell_type": "markdown",
      "source": [
        "# Abrir a base de dados"
      ],
      "metadata": {
        "id": "ny_9IQiHT0dM"
      }
    },
    {
      "cell_type": "code",
      "source": [
        "# Importar as bibliotecas para trabalhar com base de dados e gráficos\n",
        "import pandas as pd\n",
        "import matplotlib.pyplot as plt\n",
        "import seaborn as sns\n",
        "import numpy as np"
      ],
      "metadata": {
        "id": "MB-IztkPQ4xa"
      },
      "execution_count": null,
      "outputs": []
    },
    {
      "cell_type": "code",
      "source": [
        "# Endereço do arquivo com a base de dados\n",
        "arquivo = 'https://ftp.medicina.ufmg.br/cursosciia/qds/BD_PARTOS_corrigida.xlsx'\n",
        "\n",
        "# Ler todos os dados e colocar na variável dados\n",
        "dados = pd.read_excel(arquivo)\n",
        "\n",
        "# Mostrar destalhes/informações das variáveis importadas\n",
        "dados.info()"
      ],
      "metadata": {
        "id": "mrsmPA5iUOSP"
      },
      "execution_count": null,
      "outputs": []
    },
    {
      "cell_type": "code",
      "source": [
        "# Mostrar um resumo dos dados (as 5 primeiras linhas e 5 últimas 5 linhas)\n",
        "dados"
      ],
      "metadata": {
        "id": "n_0s2K_KatXT"
      },
      "execution_count": null,
      "outputs": []
    },
    {
      "cell_type": "markdown",
      "source": [
        "# Análise da qualidade das variáveis numéricas - (análise descritiva)"
      ],
      "metadata": {
        "id": "jcbGdKr7u8dl"
      }
    },
    {
      "cell_type": "code",
      "source": [
        "# Resumo descritivo das colunas numéricas\n",
        "# Observação: que o Python entendeu como númerica na importação\n",
        "dados.describe()"
      ],
      "metadata": {
        "id": "P-MQCq8WXn8U"
      },
      "execution_count": null,
      "outputs": []
    },
    {
      "cell_type": "markdown",
      "source": [
        "Função para conveter tipos de uma coluna em outro (float => int), só é possível se não houver NAN (vazios, missings, nulos)\n",
        "\n",
        "dados.PARTOS = dados.PARTOS.apply(np.int64)"
      ],
      "metadata": {
        "id": "Yk--I6YrSqSi"
      }
    },
    {
      "cell_type": "markdown",
      "source": [
        "**Numéricas discretas**"
      ],
      "metadata": {
        "id": "ca3uNt92rAN4"
      }
    },
    {
      "cell_type": "code",
      "source": [
        "# GESTACOES\n",
        "# Explorar medidas resumo - (média, desvio padrão, mínimo, 1º quartil, mediana, 3º quartil, máximo)\n",
        "dados.GESTACOES.describe()"
      ],
      "metadata": {
        "id": "8gPDzzRtk0FF"
      },
      "execution_count": null,
      "outputs": []
    },
    {
      "cell_type": "code",
      "source": [
        "# Contando a quantidade de casos\n",
        "dados.GESTACOES.value_counts()"
      ],
      "metadata": {
        "id": "5A408YfEctP1"
      },
      "execution_count": null,
      "outputs": []
    },
    {
      "cell_type": "code",
      "source": [
        "# Histograma\n",
        "sns.histplot(dados.GESTACOES)"
      ],
      "metadata": {
        "id": "Qrbu96L7lvun"
      },
      "execution_count": null,
      "outputs": []
    },
    {
      "cell_type": "code",
      "source": [
        "# PARTOS\n",
        "# Explorar medidas resumo - (média, desvio padrão, mínimo, 1º quartil, mediana, 3º quartil, máximo)\n",
        "dados.PARTOS.describe()"
      ],
      "metadata": {
        "id": "yOTNTb8hqhbV"
      },
      "execution_count": null,
      "outputs": []
    },
    {
      "cell_type": "code",
      "source": [
        "# Contando a quantidade de casos\n",
        "dados.PARTOS.value_counts()"
      ],
      "metadata": {
        "id": "1I7m0V8DqhYA"
      },
      "execution_count": null,
      "outputs": []
    },
    {
      "cell_type": "code",
      "source": [
        "# Histograma\n",
        "sns.histplot(dados.PARTOS)"
      ],
      "metadata": {
        "id": "tHM-mlvBqhUo"
      },
      "execution_count": null,
      "outputs": []
    },
    {
      "cell_type": "code",
      "source": [
        "# Histograma\n",
        "sns.histplot(dados.CESAREAS_PREVIAS)"
      ],
      "metadata": {
        "id": "xEdDlsd5rTuI"
      },
      "execution_count": null,
      "outputs": []
    },
    {
      "cell_type": "markdown",
      "source": [
        "**Numéricas discretas - com faixa de valores muito grandes**"
      ],
      "metadata": {
        "id": "O4WiYyLasCWI"
      }
    },
    {
      "cell_type": "code",
      "source": [
        "# PESO_NASCER\n",
        "# Explorar medidas resumo - (média, desvio padrão, mínimo, 1º quartil, mediana, 3º quartil, máximo)\n",
        "dados.PESO_NASCER.describe()"
      ],
      "metadata": {
        "id": "UOl3W9zek5pz"
      },
      "execution_count": null,
      "outputs": []
    },
    {
      "cell_type": "code",
      "source": [
        "# Histograma\n",
        "sns.histplot(dados.PESO_NASCER)"
      ],
      "metadata": {
        "id": "R4W8mhqcmn6L"
      },
      "execution_count": null,
      "outputs": []
    },
    {
      "cell_type": "code",
      "source": [
        "# IG_OBSTETRA\n",
        "# Explorar medidas resumo - (média, desvio padrão, mínimo, 1º quartil, mediana, 3º quartil, máximo)\n",
        "dados.IG_OBSTETRA.describe()"
      ],
      "metadata": {
        "id": "w2rQedVelSa6"
      },
      "execution_count": null,
      "outputs": []
    },
    {
      "cell_type": "code",
      "source": [
        "# Histograma\n",
        "sns.histplot(dados.IG_OBSTETRA)"
      ],
      "metadata": {
        "id": "mA_Dwn2NnCkl"
      },
      "execution_count": null,
      "outputs": []
    },
    {
      "cell_type": "code",
      "source": [
        "#  Limpeza de dados - 2 casos com IG = 0\n",
        "dados.IG_OBSTETRA.value_counts()"
      ],
      "metadata": {
        "id": "yxHIFuP-nUEi"
      },
      "execution_count": null,
      "outputs": []
    },
    {
      "cell_type": "code",
      "source": [
        "#  Limpeza de dados\n",
        "#  Preencher com null (nan) os valores 0\n",
        "dados.IG_OBSTETRA.replace(0, np.nan, inplace=True)\n",
        "\n",
        "dados.IG_OBSTETRA.describe()"
      ],
      "metadata": {
        "id": "vwvuUCNpnT4J"
      },
      "execution_count": null,
      "outputs": []
    },
    {
      "cell_type": "code",
      "source": [
        "# Histograma\n",
        "sns.histplot(dados.IG_OBSTETRA)"
      ],
      "metadata": {
        "id": "SFswLzwOnxjL"
      },
      "execution_count": null,
      "outputs": []
    },
    {
      "cell_type": "code",
      "source": [
        "# IG_PEDIATRA\n",
        "# Explorar medidas resumo - (média, desvio padrão, mínimo, 1º quartil, mediana, 3º quartil, máximo)\n",
        "dados.IG_PEDIATRA.describe()"
      ],
      "metadata": {
        "id": "4ptycWDrsTeN"
      },
      "execution_count": null,
      "outputs": []
    },
    {
      "cell_type": "code",
      "source": [
        "# Histograma\n",
        "sns.histplot(dados.IG_PEDIATRA)"
      ],
      "metadata": {
        "id": "3hGl6EhWsTZz"
      },
      "execution_count": null,
      "outputs": []
    },
    {
      "cell_type": "code",
      "source": [
        "#  Limpeza de dados - 1 caso com IG = 9\n",
        "dados.IG_PEDIATRA.value_counts()"
      ],
      "metadata": {
        "id": "IovKoYNNsTWA"
      },
      "execution_count": null,
      "outputs": []
    },
    {
      "cell_type": "code",
      "source": [
        "#  Limpeza de dados\n",
        "#  Preencher com null (nan) os valores 9\n",
        "dados.IG_PEDIATRA.replace(9, np.nan, inplace=True)\n",
        "\n",
        "dados.IG_PEDIATRA.describe()"
      ],
      "metadata": {
        "id": "D2fxppQ3sTRv"
      },
      "execution_count": null,
      "outputs": []
    },
    {
      "cell_type": "code",
      "source": [
        "# Histograma\n",
        "sns.histplot(dados.IG_PEDIATRA)"
      ],
      "metadata": {
        "id": "0jUs59uzugQF"
      },
      "execution_count": null,
      "outputs": []
    },
    {
      "cell_type": "markdown",
      "source": [
        "**Numéricas continuas**"
      ],
      "metadata": {
        "id": "tFspnyGVvGGm"
      }
    },
    {
      "cell_type": "code",
      "source": [
        "# DURACAO_INT\n",
        "# Explorar medidas resumo - (média, desvio padrão, mínimo, 1º quartil, mediana, 3º quartil, máximo)\n",
        "dados.DURACAO_INT.describe()"
      ],
      "metadata": {
        "id": "r4B3OYNrn_TR"
      },
      "execution_count": null,
      "outputs": []
    },
    {
      "cell_type": "code",
      "source": [
        "# analisar os casos\n",
        "dados.DURACAO_INT"
      ],
      "metadata": {
        "id": "y72n3QwOYbDO"
      },
      "execution_count": null,
      "outputs": []
    },
    {
      "cell_type": "code",
      "source": [
        "# Vamos arrendodar para dias inteiros\n",
        "dados.DURACAO_INT = dados.DURACAO_INT.round(0)"
      ],
      "metadata": {
        "id": "YOI9XKLlY_ES"
      },
      "execution_count": null,
      "outputs": []
    },
    {
      "cell_type": "code",
      "source": [
        "# Histograma\n",
        "sns.histplot(dados.DURACAO_INT)"
      ],
      "metadata": {
        "id": "9pxShyhdoA9P"
      },
      "execution_count": null,
      "outputs": []
    },
    {
      "cell_type": "markdown",
      "source": [
        "# Recodificação de variáveis"
      ],
      "metadata": {
        "id": "mLSXnKiAhXqp"
      }
    },
    {
      "cell_type": "code",
      "source": [
        "# TIPO_PARTO - Contando a quantidade de casos por categoria\n",
        "dados.TIPO_PARTO.value_counts()"
      ],
      "metadata": {
        "id": "GjR97mSmYZgO"
      },
      "execution_count": null,
      "outputs": []
    },
    {
      "cell_type": "code",
      "source": [
        "# Trocar os números pelo conteúdo das categorias, o python não precisa que as categorias sejam códigos (apenas para regressão)\n",
        "# Já se sabe pela documentação da Base de dados que:\n",
        "# 1 = partos vaginais\n",
        "# 2 = partos cesáreos\n",
        "\n",
        "dados.TIPO_PARTO.replace(1, 'Parto Normal', inplace=True)\n",
        "dados.TIPO_PARTO.replace(2, 'Parto Cesáreo', inplace=True)\n",
        "dados.TIPO_PARTO.value_counts()"
      ],
      "metadata": {
        "id": "YKM3x_NqjpNA"
      },
      "execution_count": null,
      "outputs": []
    },
    {
      "cell_type": "code",
      "source": [
        "# HIPERTENSAO - Contando a quantidade de casos por categoria\n",
        "dados.HIPERTENSAO.value_counts()"
      ],
      "metadata": {
        "id": "qlcfVlOnhV2C"
      },
      "execution_count": null,
      "outputs": []
    },
    {
      "cell_type": "code",
      "source": [
        "# HIPERTENSAO - recodificar ==>   0 = Não, 1 = Sim\n",
        "dados.HIPERTENSAO.replace(0, 'Não', inplace=True)\n",
        "dados.HIPERTENSAO.replace(1, 'Sim', inplace=True)\n",
        "dados.HIPERTENSAO.value_counts()"
      ],
      "metadata": {
        "id": "naznjAoUiOnN"
      },
      "execution_count": null,
      "outputs": []
    },
    {
      "cell_type": "code",
      "source": [
        "# VIVO - Contando a quantidade de casos por categoria\n",
        "dados.VIVO.value_counts()"
      ],
      "metadata": {
        "id": "NPQhDaWeaziL"
      },
      "execution_count": null,
      "outputs": []
    },
    {
      "cell_type": "code",
      "source": [
        "# VIVO - recodificar ==>   0 = Nascido morto, 1 = Nascido vivo\n",
        "dados.VIVO.replace(0, 'Nascido morto', inplace=True)\n",
        "dados.VIVO.replace(1, 'Nascido vivo', inplace=True)\n",
        "dados.VIVO.value_counts()"
      ],
      "metadata": {
        "id": "eHiaAr6Jh22J"
      },
      "execution_count": null,
      "outputs": []
    },
    {
      "cell_type": "code",
      "source": [
        "# ALTO_RISCO - Contando a quantidade de casos por categoria\n",
        "dados.ALTO_RISCO.value_counts()"
      ],
      "metadata": {
        "id": "b9yyBivCZ-hS"
      },
      "execution_count": null,
      "outputs": []
    },
    {
      "cell_type": "code",
      "source": [
        "# ALTO_RISCO - Limpeza e Tratamento de dados, recodificando valores de texto\n",
        "dados.ALTO_RISCO.replace('não', 'Não', inplace=True)\n",
        "dados.ALTO_RISCO.replace('nao', 'Não', inplace=True)\n",
        "dados.ALTO_RISCO.replace('Nao', 'Não', inplace=True)\n",
        "dados.ALTO_RISCO.replace('sim', 'Sim', inplace=True)\n",
        "dados.ALTO_RISCO.value_counts()"
      ],
      "metadata": {
        "id": "L5YxApi4hd47"
      },
      "execution_count": null,
      "outputs": []
    },
    {
      "cell_type": "code",
      "source": [
        "# SEXO - Contando a quantidade de casos por categoria\n",
        "dados.SEXO.value_counts()"
      ],
      "metadata": {
        "id": "koU1UvNxZOyr"
      },
      "execution_count": null,
      "outputs": []
    },
    {
      "cell_type": "code",
      "source": [
        "# SEXO - recodificar ==>\n",
        "#  0 = missing (não preenchido), 1 = masculino, 2 = feminino, 3 = indeterminado\n",
        "\n",
        "#  Para análise deste estudo, vamos considerar os valores 0 e 3 como missings (nulos)\n",
        "#  Preencher com null (nan) os valores 0 e 3\n",
        "dados.SEXO.replace(0, np.nan, inplace=True)\n",
        "dados.SEXO.replace(3, np.nan, inplace=True)\n",
        "\n",
        "# SEXO - recodificar ==>   1 = Masculino, 2 = Feminino\n",
        "dados.SEXO.replace(1, 'Masculino', inplace=True)\n",
        "dados.SEXO.replace(2, 'Feminino', inplace=True)\n",
        "\n",
        "dados.SEXO.value_counts()"
      ],
      "metadata": {
        "id": "M1Npt8H6eD-y"
      },
      "execution_count": null,
      "outputs": []
    },
    {
      "cell_type": "code",
      "source": [
        "# Se precisar: esse código desabilita algumas mensagens de Warning, quando se faz recodificação de variáveis.\n",
        "# pd.options.mode.chained_assignment = None\n",
        "# default='warn'"
      ],
      "metadata": {
        "id": "fVqwT9cuZhGL"
      },
      "execution_count": null,
      "outputs": []
    },
    {
      "cell_type": "markdown",
      "source": [
        "# Salvar os dados atuais em um novo arquivo"
      ],
      "metadata": {
        "id": "VmRP1jPJ4_6M"
      }
    },
    {
      "cell_type": "code",
      "source": [
        "# salvar em excel, um novo arquivo, com os dados tratados\n",
        "dados.to_excel(\"Roteiro_QDS04_atividade7.xlsx\")"
      ],
      "metadata": {
        "id": "EqHbBd744-62"
      },
      "execution_count": null,
      "outputs": []
    }
  ]
}